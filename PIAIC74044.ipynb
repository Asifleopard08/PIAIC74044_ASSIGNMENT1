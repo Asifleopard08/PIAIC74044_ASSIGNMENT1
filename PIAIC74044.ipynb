{
  "nbformat": 4,
  "nbformat_minor": 0,
  "metadata": {
    "colab": {
      "name": "PIAIC74044.ipynb",
      "provenance": [],
      "collapsed_sections": [],
      "authorship_tag": "ABX9TyOsFrzZ+H0CPAq/uJGKL9Io",
      "include_colab_link": true
    },
    "kernelspec": {
      "name": "python3",
      "display_name": "Python 3"
    }
  },
  "cells": [
    {
      "cell_type": "markdown",
      "metadata": {
        "id": "view-in-github",
        "colab_type": "text"
      },
      "source": [
        "<a href=\"https://colab.research.google.com/github/Asifleopard08/PIAIC_ASSIGNMENT-01/blob/main/PIAIC74044.ipynb\" target=\"_parent\"><img src=\"https://colab.research.google.com/assets/colab-badge.svg\" alt=\"Open In Colab\"/></a>"
      ]
    },
    {
      "cell_type": "code",
      "metadata": {
        "id": "0eMHCRVsFryn"
      },
      "source": [
        "#Import the numpy package under the name np\r\n",
        "import numpy as np"
      ],
      "execution_count": 1,
      "outputs": []
    },
    {
      "cell_type": "code",
      "metadata": {
        "colab": {
          "base_uri": "https://localhost:8080/"
        },
        "id": "R6xICfLpGRkN",
        "outputId": "a7133677-a7c9-4fa4-fc3b-6f2d66757ec5"
      },
      "source": [
        "#Create a null vector of size 10\r\n",
        "null_vector = np.zeros(10)\r\n",
        "null_vector"
      ],
      "execution_count": 2,
      "outputs": [
        {
          "output_type": "execute_result",
          "data": {
            "text/plain": [
              "array([0., 0., 0., 0., 0., 0., 0., 0., 0., 0.])"
            ]
          },
          "metadata": {
            "tags": []
          },
          "execution_count": 2
        }
      ]
    },
    {
      "cell_type": "code",
      "metadata": {
        "colab": {
          "base_uri": "https://localhost:8080/"
        },
        "id": "8toz7dkEGYjY",
        "outputId": "e1976dc2-6e7e-4bea-c9db-06efdc47ab0e"
      },
      "source": [
        "#Create a vector with values ranging from 10 to 49\r\n",
        "a = np.arange(10, 50)\r\n",
        "a"
      ],
      "execution_count": 3,
      "outputs": [
        {
          "output_type": "execute_result",
          "data": {
            "text/plain": [
              "array([10, 11, 12, 13, 14, 15, 16, 17, 18, 19, 20, 21, 22, 23, 24, 25, 26,\n",
              "       27, 28, 29, 30, 31, 32, 33, 34, 35, 36, 37, 38, 39, 40, 41, 42, 43,\n",
              "       44, 45, 46, 47, 48, 49])"
            ]
          },
          "metadata": {
            "tags": []
          },
          "execution_count": 3
        }
      ]
    },
    {
      "cell_type": "code",
      "metadata": {
        "colab": {
          "base_uri": "https://localhost:8080/"
        },
        "id": "OUlrx0O6GdOB",
        "outputId": "1cafaa6f-1a16-445c-8170-8d12458e0a56"
      },
      "source": [
        "#Find the shape of previous array in question 3\r\n",
        "np.shape(a)"
      ],
      "execution_count": 4,
      "outputs": [
        {
          "output_type": "execute_result",
          "data": {
            "text/plain": [
              "(40,)"
            ]
          },
          "metadata": {
            "tags": []
          },
          "execution_count": 4
        }
      ]
    },
    {
      "cell_type": "code",
      "metadata": {
        "colab": {
          "base_uri": "https://localhost:8080/"
        },
        "id": "ZEhGLAP1GjIR",
        "outputId": "d9a533a4-f1bf-4fd3-da94-c320ad0651f6"
      },
      "source": [
        "#Print the type of the previous array in question 3\r\n",
        "a.dtype"
      ],
      "execution_count": 5,
      "outputs": [
        {
          "output_type": "execute_result",
          "data": {
            "text/plain": [
              "dtype('int64')"
            ]
          },
          "metadata": {
            "tags": []
          },
          "execution_count": 5
        }
      ]
    },
    {
      "cell_type": "code",
      "metadata": {
        "colab": {
          "base_uri": "https://localhost:8080/",
          "height": 35
        },
        "id": "LVcKpr1oGn0r",
        "outputId": "7653ab9d-d6a9-4378-bc01-cfc54f0091e2"
      },
      "source": [
        "#Print the numpy version and the configuration\r\n",
        "np.__version__"
      ],
      "execution_count": 6,
      "outputs": [
        {
          "output_type": "execute_result",
          "data": {
            "application/vnd.google.colaboratory.intrinsic+json": {
              "type": "string"
            },
            "text/plain": [
              "'1.19.4'"
            ]
          },
          "metadata": {
            "tags": []
          },
          "execution_count": 6
        }
      ]
    },
    {
      "cell_type": "code",
      "metadata": {
        "colab": {
          "base_uri": "https://localhost:8080/"
        },
        "id": "mvGIQJnTGvDr",
        "outputId": "431a812c-4a5e-4a89-b23c-5e2b5fe7d636"
      },
      "source": [
        "np.show_config()"
      ],
      "execution_count": 7,
      "outputs": [
        {
          "output_type": "stream",
          "text": [
            "blas_mkl_info:\n",
            "  NOT AVAILABLE\n",
            "blis_info:\n",
            "  NOT AVAILABLE\n",
            "openblas_info:\n",
            "    libraries = ['openblas', 'openblas']\n",
            "    library_dirs = ['/usr/local/lib']\n",
            "    language = c\n",
            "    define_macros = [('HAVE_CBLAS', None)]\n",
            "blas_opt_info:\n",
            "    libraries = ['openblas', 'openblas']\n",
            "    library_dirs = ['/usr/local/lib']\n",
            "    language = c\n",
            "    define_macros = [('HAVE_CBLAS', None)]\n",
            "lapack_mkl_info:\n",
            "  NOT AVAILABLE\n",
            "openblas_lapack_info:\n",
            "    libraries = ['openblas', 'openblas']\n",
            "    library_dirs = ['/usr/local/lib']\n",
            "    language = c\n",
            "    define_macros = [('HAVE_CBLAS', None)]\n",
            "lapack_opt_info:\n",
            "    libraries = ['openblas', 'openblas']\n",
            "    library_dirs = ['/usr/local/lib']\n",
            "    language = c\n",
            "    define_macros = [('HAVE_CBLAS', None)]\n"
          ],
          "name": "stdout"
        }
      ]
    },
    {
      "cell_type": "code",
      "metadata": {
        "colab": {
          "base_uri": "https://localhost:8080/"
        },
        "id": "qc7Kbt2EGyxo",
        "outputId": "28527eb4-fbd7-4710-c7a9-1930deb61d6e"
      },
      "source": [
        "#Print the dimension of the array in question 3\r\n",
        "a.ndim"
      ],
      "execution_count": 8,
      "outputs": [
        {
          "output_type": "execute_result",
          "data": {
            "text/plain": [
              "1"
            ]
          },
          "metadata": {
            "tags": []
          },
          "execution_count": 8
        }
      ]
    },
    {
      "cell_type": "code",
      "metadata": {
        "colab": {
          "base_uri": "https://localhost:8080/"
        },
        "id": "2acxfUvoG3-0",
        "outputId": "d0e06003-4159-4560-9a0e-3e0c4409dc8e"
      },
      "source": [
        "#Create a boolean array with all the True values\r\n",
        "A = np.array([4, 5, 6, 7, 8, 9])\r\n",
        "\r\n",
        "A >= 4"
      ],
      "execution_count": 9,
      "outputs": [
        {
          "output_type": "execute_result",
          "data": {
            "text/plain": [
              "array([ True,  True,  True,  True,  True,  True])"
            ]
          },
          "metadata": {
            "tags": []
          },
          "execution_count": 9
        }
      ]
    },
    {
      "cell_type": "code",
      "metadata": {
        "colab": {
          "base_uri": "https://localhost:8080/"
        },
        "id": "3rLdHGhwG7HC",
        "outputId": "fbcaeebd-3195-4a2f-dd1d-b2f37c630b22"
      },
      "source": [
        "#Create a two dimensional array\r\n",
        "B = np.array([[1, 2, 3, 4], [5, 6, 7, 8]])\r\n",
        "B"
      ],
      "execution_count": 10,
      "outputs": [
        {
          "output_type": "execute_result",
          "data": {
            "text/plain": [
              "array([[1, 2, 3, 4],\n",
              "       [5, 6, 7, 8]])"
            ]
          },
          "metadata": {
            "tags": []
          },
          "execution_count": 10
        }
      ]
    },
    {
      "cell_type": "code",
      "metadata": {
        "colab": {
          "base_uri": "https://localhost:8080/"
        },
        "id": "yhp9t_O-G_Ct",
        "outputId": "14b095de-7bfe-455c-9ff1-10da12d13ce9"
      },
      "source": [
        "#Create a three dimensional array\r\n",
        "C = np.array([[[[1, 2, 3], [4, 5, 6], [7, 8, 9]]]])\r\n",
        "C"
      ],
      "execution_count": 11,
      "outputs": [
        {
          "output_type": "execute_result",
          "data": {
            "text/plain": [
              "array([[[[1, 2, 3],\n",
              "         [4, 5, 6],\n",
              "         [7, 8, 9]]]])"
            ]
          },
          "metadata": {
            "tags": []
          },
          "execution_count": 11
        }
      ]
    },
    {
      "cell_type": "code",
      "metadata": {
        "colab": {
          "base_uri": "https://localhost:8080/"
        },
        "id": "4TVOywcfHB-J",
        "outputId": "73ba1f48-5359-482d-86c3-b1f298e5cd5f"
      },
      "source": [
        "                                    ##Difficulty Level Easy\r\n",
        "#Reverse a vector (first element becomes last)\r\n",
        "D = np.arange(10)\r\n",
        "D"
      ],
      "execution_count": 12,
      "outputs": [
        {
          "output_type": "execute_result",
          "data": {
            "text/plain": [
              "array([0, 1, 2, 3, 4, 5, 6, 7, 8, 9])"
            ]
          },
          "metadata": {
            "tags": []
          },
          "execution_count": 12
        }
      ]
    },
    {
      "cell_type": "code",
      "metadata": {
        "colab": {
          "base_uri": "https://localhost:8080/"
        },
        "id": "35m_IRbOHGfH",
        "outputId": "e3ad0369-a6fa-4e04-f2f2-09d9b98134b3"
      },
      "source": [
        "D[::-1]"
      ],
      "execution_count": 13,
      "outputs": [
        {
          "output_type": "execute_result",
          "data": {
            "text/plain": [
              "array([9, 8, 7, 6, 5, 4, 3, 2, 1, 0])"
            ]
          },
          "metadata": {
            "tags": []
          },
          "execution_count": 13
        }
      ]
    },
    {
      "cell_type": "code",
      "metadata": {
        "colab": {
          "base_uri": "https://localhost:8080/"
        },
        "id": "u22OvH6JHMBB",
        "outputId": "3c1451fb-311c-45bf-85e4-a8a3ffab447b"
      },
      "source": [
        "#Create a null vector of size 10 but the fifth value which is 1\r\n",
        "E = np.zeros(10)\r\n",
        "E[4] = 1\r\n",
        "E"
      ],
      "execution_count": 14,
      "outputs": [
        {
          "output_type": "execute_result",
          "data": {
            "text/plain": [
              "array([0., 0., 0., 0., 1., 0., 0., 0., 0., 0.])"
            ]
          },
          "metadata": {
            "tags": []
          },
          "execution_count": 14
        }
      ]
    },
    {
      "cell_type": "code",
      "metadata": {
        "colab": {
          "base_uri": "https://localhost:8080/"
        },
        "id": "PWx-ecUNHPNi",
        "outputId": "2063fb69-c19e-4873-ee73-9717150ea3ed"
      },
      "source": [
        "#Create a 3x3 identity matrix\r\n",
        "F = np.identity(3)\r\n",
        "F"
      ],
      "execution_count": 15,
      "outputs": [
        {
          "output_type": "execute_result",
          "data": {
            "text/plain": [
              "array([[1., 0., 0.],\n",
              "       [0., 1., 0.],\n",
              "       [0., 0., 1.]])"
            ]
          },
          "metadata": {
            "tags": []
          },
          "execution_count": 15
        }
      ]
    },
    {
      "cell_type": "code",
      "metadata": {
        "colab": {
          "base_uri": "https://localhost:8080/"
        },
        "id": "qSDVLjPFHT8o",
        "outputId": "7c1ae30b-b87e-4bd1-93d6-cad29ee5e85a"
      },
      "source": [
        "#Convert the data type of the given array from int to float\r\n",
        "arr = np.array([1, 2, 3, 4, 5])\r\n",
        "arr.astype('float')"
      ],
      "execution_count": 16,
      "outputs": [
        {
          "output_type": "execute_result",
          "data": {
            "text/plain": [
              "array([1., 2., 3., 4., 5.])"
            ]
          },
          "metadata": {
            "tags": []
          },
          "execution_count": 16
        }
      ]
    },
    {
      "cell_type": "code",
      "metadata": {
        "colab": {
          "base_uri": "https://localhost:8080/"
        },
        "id": "qoYClV4WHWrk",
        "outputId": "d9edca64-5e90-4653-e42b-57a032e1f4a0"
      },
      "source": [
        "#Multiply arr1 with arr2\r\n",
        "arr1 = np.array([[1., 2., 3.], [4., 5., 6.]])\r\n",
        "arr2 = np.array([[0., 4., 1.], [7., 2., 12.]])\r\n",
        "arr3 = arr1 * arr2\r\n",
        "arr3"
      ],
      "execution_count": 17,
      "outputs": [
        {
          "output_type": "execute_result",
          "data": {
            "text/plain": [
              "array([[ 0.,  8.,  3.],\n",
              "       [28., 10., 72.]])"
            ]
          },
          "metadata": {
            "tags": []
          },
          "execution_count": 17
        }
      ]
    },
    {
      "cell_type": "code",
      "metadata": {
        "colab": {
          "base_uri": "https://localhost:8080/"
        },
        "id": "2dwd-jDCHaNZ",
        "outputId": "bf008c14-3070-4937-d775-0307f8aae6b7"
      },
      "source": [
        "#Make an array by comparing both the arrays provided above\r\n",
        "arr1 = np.array([[1., 2., 3.], [4., 5., 6.]])\r\n",
        "arr2 = np.array([[0., 4., 1.], [7., 2., 12.]])\r\n",
        "comparison = arr1 == arr2\r\n",
        "equal_arr = comparison.all()\r\n",
        "equal_arr"
      ],
      "execution_count": 18,
      "outputs": [
        {
          "output_type": "execute_result",
          "data": {
            "text/plain": [
              "False"
            ]
          },
          "metadata": {
            "tags": []
          },
          "execution_count": 18
        }
      ]
    },
    {
      "cell_type": "code",
      "metadata": {
        "colab": {
          "base_uri": "https://localhost:8080/"
        },
        "id": "vyaz5aHwHg9S",
        "outputId": "53b8c013-4fc7-439b-dc62-954ad9f7e1b6"
      },
      "source": [
        "#Extract all odd numbers from arr with values(0-9)\r\n",
        "arr = np.arange(10)\r\n",
        "Z = arr[arr % 2 == 1]\r\n",
        "Z"
      ],
      "execution_count": 19,
      "outputs": [
        {
          "output_type": "execute_result",
          "data": {
            "text/plain": [
              "array([1, 3, 5, 7, 9])"
            ]
          },
          "metadata": {
            "tags": []
          },
          "execution_count": 19
        }
      ]
    },
    {
      "cell_type": "code",
      "metadata": {
        "colab": {
          "base_uri": "https://localhost:8080/"
        },
        "id": "_zQo8kwRHkYe",
        "outputId": "c49b807b-142a-4c0b-df40-c3a218ecf5d8"
      },
      "source": [
        "#Replace all odd numbers to -1 from previous array\r\n",
        "Z[0:5] = -1\r\n",
        "Z"
      ],
      "execution_count": 20,
      "outputs": [
        {
          "output_type": "execute_result",
          "data": {
            "text/plain": [
              "array([-1, -1, -1, -1, -1])"
            ]
          },
          "metadata": {
            "tags": []
          },
          "execution_count": 20
        }
      ]
    },
    {
      "cell_type": "code",
      "metadata": {
        "colab": {
          "base_uri": "https://localhost:8080/"
        },
        "id": "GDLU_YGRHpR7",
        "outputId": "f4cf74af-f77f-4246-dbd7-4194fd724bf8"
      },
      "source": [
        "#Replace the values of indexes 5,6,7 and 8 to 12\r\n",
        "arr = np.arange(10)\r\n",
        "arr[5:9]=12\r\n",
        "arr"
      ],
      "execution_count": 21,
      "outputs": [
        {
          "output_type": "execute_result",
          "data": {
            "text/plain": [
              "array([ 0,  1,  2,  3,  4, 12, 12, 12, 12,  9])"
            ]
          },
          "metadata": {
            "tags": []
          },
          "execution_count": 21
        }
      ]
    },
    {
      "cell_type": "code",
      "metadata": {
        "colab": {
          "base_uri": "https://localhost:8080/"
        },
        "id": "nkZ3VxYiHruD",
        "outputId": "ed2c9370-42ed-4718-88bf-9f8e101c1115"
      },
      "source": [
        "#Create a 2d array with 1 on the border and 0 inside\r\n",
        "X = np.ones((5,5))\r\n",
        "X[1:-1,1:-1] = 0\r\n",
        "X"
      ],
      "execution_count": 22,
      "outputs": [
        {
          "output_type": "execute_result",
          "data": {
            "text/plain": [
              "array([[1., 1., 1., 1., 1.],\n",
              "       [1., 0., 0., 0., 1.],\n",
              "       [1., 0., 0., 0., 1.],\n",
              "       [1., 0., 0., 0., 1.],\n",
              "       [1., 1., 1., 1., 1.]])"
            ]
          },
          "metadata": {
            "tags": []
          },
          "execution_count": 22
        }
      ]
    },
    {
      "cell_type": "code",
      "metadata": {
        "colab": {
          "base_uri": "https://localhost:8080/"
        },
        "id": "wyYgYOhSHu5q",
        "outputId": "25e35cbd-f391-4a3a-dfd9-fda67bcd4181"
      },
      "source": [
        "                         ###Difficulty Level Medium\r\n",
        "#Replace the value 5 to 12\r\n",
        "arr2d = np.array([[1, 2, 3], [4, 5, 6], [7, 8, 9]])\r\n",
        "arr2d[1][1] = 12\r\n",
        "arr2d"
      ],
      "execution_count": 23,
      "outputs": [
        {
          "output_type": "execute_result",
          "data": {
            "text/plain": [
              "array([[ 1,  2,  3],\n",
              "       [ 4, 12,  6],\n",
              "       [ 7,  8,  9]])"
            ]
          },
          "metadata": {
            "tags": []
          },
          "execution_count": 23
        }
      ]
    },
    {
      "cell_type": "code",
      "metadata": {
        "colab": {
          "base_uri": "https://localhost:8080/"
        },
        "id": "QlArd8syHzu9",
        "outputId": "7ddeef94-5e0c-434a-fbde-a362d998dce6"
      },
      "source": [
        "#Convert all the values of 1st array to 64\r\n",
        "arr3d = np.array([[[1, 2, 3], [4, 5, 6]], [[7, 8, 9], [10, 11, 12]]])\r\n",
        "arr3d[0] = 64\r\n",
        "arr3d"
      ],
      "execution_count": 24,
      "outputs": [
        {
          "output_type": "execute_result",
          "data": {
            "text/plain": [
              "array([[[64, 64, 64],\n",
              "        [64, 64, 64]],\n",
              "\n",
              "       [[ 7,  8,  9],\n",
              "        [10, 11, 12]]])"
            ]
          },
          "metadata": {
            "tags": []
          },
          "execution_count": 24
        }
      ]
    },
    {
      "cell_type": "code",
      "metadata": {
        "colab": {
          "base_uri": "https://localhost:8080/"
        },
        "id": "41a7pHuBH2ru",
        "outputId": "738e55ee-b21b-4f76-bbdc-5b6253727e6a"
      },
      "source": [
        "#Make a 2-Dimensional array with values 0-9 and slice out the first 1st 1-D array from it\r\n",
        "A = np.array([[0, 1, 2, 3, 4], [5, 6, 7, 8, 9]])\r\n",
        "A[0][0]"
      ],
      "execution_count": 25,
      "outputs": [
        {
          "output_type": "execute_result",
          "data": {
            "text/plain": [
              "0"
            ]
          },
          "metadata": {
            "tags": []
          },
          "execution_count": 25
        }
      ]
    },
    {
      "cell_type": "code",
      "metadata": {
        "colab": {
          "base_uri": "https://localhost:8080/"
        },
        "id": "93fJlKfmH7Cm",
        "outputId": "bb6b4bbe-791c-4df0-ecde-b4a8ed6d4db4"
      },
      "source": [
        "#Make a 2-Dimensional array with values 0-9 and slice out the 2nd value from 2nd 1-D array from it\r\n",
        "A[1][1]"
      ],
      "execution_count": 26,
      "outputs": [
        {
          "output_type": "execute_result",
          "data": {
            "text/plain": [
              "6"
            ]
          },
          "metadata": {
            "tags": []
          },
          "execution_count": 26
        }
      ]
    },
    {
      "cell_type": "code",
      "metadata": {
        "colab": {
          "base_uri": "https://localhost:8080/"
        },
        "id": "Lk21K1XEH960",
        "outputId": "3fec9bf8-7f0f-4951-fb02-09c013ccc63c"
      },
      "source": [
        "#Make a 2-Dimensional array with values 0-9 and slice out the third column but only the first two rows\r\n",
        "A[:, :4]"
      ],
      "execution_count": 27,
      "outputs": [
        {
          "output_type": "execute_result",
          "data": {
            "text/plain": [
              "array([[0, 1, 2, 3],\n",
              "       [5, 6, 7, 8]])"
            ]
          },
          "metadata": {
            "tags": []
          },
          "execution_count": 27
        }
      ]
    },
    {
      "cell_type": "code",
      "metadata": {
        "colab": {
          "base_uri": "https://localhost:8080/"
        },
        "id": "OGwtZdbZICYM",
        "outputId": "940ffced-4fd1-4d40-96c1-da664c459add"
      },
      "source": [
        "#Create a 10x10 array with random values and find the minimum and maximum values\r\n",
        "Y = np.random.randn(10, 10)\r\n",
        "Y"
      ],
      "execution_count": 28,
      "outputs": [
        {
          "output_type": "execute_result",
          "data": {
            "text/plain": [
              "array([[-0.71468996,  1.33201222,  0.06899266, -0.02645704,  0.86083378,\n",
              "        -0.0926509 ,  0.5980984 , -0.35252545,  0.06034467,  1.10003417],\n",
              "       [-0.64597352, -0.6886558 ,  0.22781545, -2.20685936, -0.71531759,\n",
              "        -1.03054308,  0.07645282, -0.57765823, -0.94230388,  0.28595621],\n",
              "       [-0.0310084 , -1.96547624,  0.03674507,  0.20182207,  1.61797052,\n",
              "         1.68769446, -1.99638605,  0.70404237, -0.49540304,  0.4330194 ],\n",
              "       [-0.76245848, -0.39701591,  1.00541765, -0.11559239, -0.23853522,\n",
              "         1.37783474,  0.23164896, -0.12058882, -1.35421944,  0.67771142],\n",
              "       [-1.09532889, -0.97042722, -0.21302099,  0.54028926, -2.65965755,\n",
              "        -0.84240955, -0.55304812,  0.15331189, -0.40136089, -0.3713538 ],\n",
              "       [ 0.19413875,  0.06640882, -2.06963334, -0.81879491, -1.8051137 ,\n",
              "         0.2891018 ,  0.57184866, -0.20173322,  0.56790837, -0.55198819],\n",
              "       [ 0.04175723, -0.13974257,  1.02931209,  0.27569905, -1.20378972,\n",
              "         0.27437914, -1.05486155,  0.94551229, -1.08870177, -0.01966035],\n",
              "       [ 0.3129576 , -0.00906691, -1.48095085, -0.51437421,  1.27491374,\n",
              "        -1.33161558,  0.5577497 ,  0.24124842, -0.37444059,  0.88597547],\n",
              "       [-1.46223808,  1.1224401 , -0.92959652,  0.81126535, -1.343516  ,\n",
              "        -2.36683065, -0.77606496,  0.59169011,  1.28662988, -0.91441475],\n",
              "       [-0.31411591,  0.41267657,  1.46221444, -0.33784252, -1.11420119,\n",
              "         1.11798281, -0.01635453, -0.33322215, -1.92661701,  0.22816098]])"
            ]
          },
          "metadata": {
            "tags": []
          },
          "execution_count": 28
        }
      ]
    },
    {
      "cell_type": "code",
      "metadata": {
        "colab": {
          "base_uri": "https://localhost:8080/"
        },
        "id": "8_jN9oE9IFqk",
        "outputId": "106cb370-7b8f-4a1d-8465-8e185764034c"
      },
      "source": [
        "Y.max()"
      ],
      "execution_count": 29,
      "outputs": [
        {
          "output_type": "execute_result",
          "data": {
            "text/plain": [
              "1.6876944637605547"
            ]
          },
          "metadata": {
            "tags": []
          },
          "execution_count": 29
        }
      ]
    },
    {
      "cell_type": "code",
      "metadata": {
        "colab": {
          "base_uri": "https://localhost:8080/"
        },
        "id": "HvqjXEk2IO7v",
        "outputId": "a7ca8a50-0da1-499d-e162-5c0c9e6f09dd"
      },
      "source": [
        "Y.min()"
      ],
      "execution_count": 30,
      "outputs": [
        {
          "output_type": "execute_result",
          "data": {
            "text/plain": [
              "-2.659657551788217"
            ]
          },
          "metadata": {
            "tags": []
          },
          "execution_count": 30
        }
      ]
    },
    {
      "cell_type": "code",
      "metadata": {
        "colab": {
          "base_uri": "https://localhost:8080/"
        },
        "id": "R1obUJRQITVH",
        "outputId": "e5200373-e41e-4bd7-b4fa-1c4a909c69a8"
      },
      "source": [
        "#Find the common items between a and b\r\n",
        "a = np.array([1,2,3,2,3,4,3,4,5,6])\r\n",
        "b = np.array([7,2,10,2,7,4,9,4,9,8])\r\n",
        "c = np.intersect1d(a, b)\r\n",
        "c"
      ],
      "execution_count": 31,
      "outputs": [
        {
          "output_type": "execute_result",
          "data": {
            "text/plain": [
              "array([2, 4])"
            ]
          },
          "metadata": {
            "tags": []
          },
          "execution_count": 31
        }
      ]
    },
    {
      "cell_type": "code",
      "metadata": {
        "colab": {
          "base_uri": "https://localhost:8080/"
        },
        "id": "AIjtRxQzIYKQ",
        "outputId": "12ae30b0-2d09-46a2-dc0b-627ef74a9793"
      },
      "source": [
        "#Find the positions where elements of a and b match\r\n",
        "a = np.array([1,2,3,2,3,4,3,4,5,6])\r\n",
        "b = np.array([7,2,10,2,7,4,9,4,9,8])\r\n",
        "np.where(a==b)"
      ],
      "execution_count": 32,
      "outputs": [
        {
          "output_type": "execute_result",
          "data": {
            "text/plain": [
              "(array([1, 3, 5, 7]),)"
            ]
          },
          "metadata": {
            "tags": []
          },
          "execution_count": 32
        }
      ]
    },
    {
      "cell_type": "code",
      "metadata": {
        "colab": {
          "base_uri": "https://localhost:8080/"
        },
        "id": "YWQq_hJ6IbB_",
        "outputId": "f8cc0199-6b30-4bb0-f2b2-22e542f8840a"
      },
      "source": [
        "#Find all the values from array data where the values from array names are not equal to Will\r\n",
        "names = np.array(['Bob', 'Joe', 'Will', 'Bob', 'Will', 'Joe', 'Joe']) \r\n",
        "data = np.random.randn(7, 4)\r\n",
        "names != 'Will'"
      ],
      "execution_count": 33,
      "outputs": [
        {
          "output_type": "execute_result",
          "data": {
            "text/plain": [
              "array([ True,  True, False,  True, False,  True,  True])"
            ]
          },
          "metadata": {
            "tags": []
          },
          "execution_count": 33
        }
      ]
    },
    {
      "cell_type": "code",
      "metadata": {
        "colab": {
          "base_uri": "https://localhost:8080/"
        },
        "id": "UR3ErCSzIi4h",
        "outputId": "79f87ee0-37c0-4468-8351-718ff4fac840"
      },
      "source": [
        "#Find all the values from array data where the values from array names are not equal to Will and Joe\r\n",
        "names = np.array(['Bob', 'Joe', 'Will', 'Bob', 'Will', 'Joe', 'Joe'])\r\n",
        "data = np.random.randn(7, 4)\r\n",
        "names != 'Will'"
      ],
      "execution_count": 34,
      "outputs": [
        {
          "output_type": "execute_result",
          "data": {
            "text/plain": [
              "array([ True,  True, False,  True, False,  True,  True])"
            ]
          },
          "metadata": {
            "tags": []
          },
          "execution_count": 34
        }
      ]
    },
    {
      "cell_type": "code",
      "metadata": {
        "colab": {
          "base_uri": "https://localhost:8080/"
        },
        "id": "php5WS0JIn_1",
        "outputId": "c36b94a3-5148-454a-8eb0-bbba5ec81eb3"
      },
      "source": [
        "                           ###Difficulty Level Hard\r\n",
        "#Create a 2D array of shape 5x3 to contain decimal numbers between 1 and 15.\r\n",
        "Z = np.arange(1, 16).reshape(5, 3)\r\n",
        "Z"
      ],
      "execution_count": 35,
      "outputs": [
        {
          "output_type": "execute_result",
          "data": {
            "text/plain": [
              "array([[ 1,  2,  3],\n",
              "       [ 4,  5,  6],\n",
              "       [ 7,  8,  9],\n",
              "       [10, 11, 12],\n",
              "       [13, 14, 15]])"
            ]
          },
          "metadata": {
            "tags": []
          },
          "execution_count": 35
        }
      ]
    },
    {
      "cell_type": "code",
      "metadata": {
        "colab": {
          "base_uri": "https://localhost:8080/"
        },
        "id": "hqFDyBGXIssr",
        "outputId": "2bccb4ae-0d7d-4fa2-d563-1277c96f80e0"
      },
      "source": [
        "#Create an array of shape (2, 2, 4) with decimal numbers between 1 to 16.\r\n",
        "Y = np.arange(1, 17).reshape(2, 2, 4)\r\n",
        "Y"
      ],
      "execution_count": 36,
      "outputs": [
        {
          "output_type": "execute_result",
          "data": {
            "text/plain": [
              "array([[[ 1,  2,  3,  4],\n",
              "        [ 5,  6,  7,  8]],\n",
              "\n",
              "       [[ 9, 10, 11, 12],\n",
              "        [13, 14, 15, 16]]])"
            ]
          },
          "metadata": {
            "tags": []
          },
          "execution_count": 36
        }
      ]
    },
    {
      "cell_type": "code",
      "metadata": {
        "colab": {
          "base_uri": "https://localhost:8080/"
        },
        "id": "8pBIGcahIwE6",
        "outputId": "7d34c2e9-d9cd-4893-9f81-196e5329e25b"
      },
      "source": [
        "#Swap axes of the array you created in Question 32\r\n",
        "Y.swapaxes(1, 2)"
      ],
      "execution_count": 37,
      "outputs": [
        {
          "output_type": "execute_result",
          "data": {
            "text/plain": [
              "array([[[ 1,  5],\n",
              "        [ 2,  6],\n",
              "        [ 3,  7],\n",
              "        [ 4,  8]],\n",
              "\n",
              "       [[ 9, 13],\n",
              "        [10, 14],\n",
              "        [11, 15],\n",
              "        [12, 16]]])"
            ]
          },
          "metadata": {
            "tags": []
          },
          "execution_count": 37
        }
      ]
    },
    {
      "cell_type": "code",
      "metadata": {
        "colab": {
          "base_uri": "https://localhost:8080/"
        },
        "id": "Os6iyvcJI0lR",
        "outputId": "bcfcadcc-7899-4260-8047-545a931e0db2"
      },
      "source": [
        "#Create an array of size 10, and find the square root of every element in the array, if the values less than 0.5, replace them with 0\r\n",
        "Y = np.arange(10)\r\n",
        "np.sqrt(Y)"
      ],
      "execution_count": 38,
      "outputs": [
        {
          "output_type": "execute_result",
          "data": {
            "text/plain": [
              "array([0.        , 1.        , 1.41421356, 1.73205081, 2.        ,\n",
              "       2.23606798, 2.44948974, 2.64575131, 2.82842712, 3.        ])"
            ]
          },
          "metadata": {
            "tags": []
          },
          "execution_count": 38
        }
      ]
    },
    {
      "cell_type": "code",
      "metadata": {
        "colab": {
          "base_uri": "https://localhost:8080/"
        },
        "id": "AbJHfguEI40S",
        "outputId": "abc53a3d-1ec7-4923-fae8-3c53297f9aa7"
      },
      "source": [
        "#Find the unique names and sort them out!\r\n",
        "names = np.array(['Bob', 'Joe', 'Will', 'Bob', 'Will', 'Joe', 'Joe'])\r\n",
        "np.unique(names)"
      ],
      "execution_count": 39,
      "outputs": [
        {
          "output_type": "execute_result",
          "data": {
            "text/plain": [
              "array(['Bob', 'Joe', 'Will'], dtype='<U4')"
            ]
          },
          "metadata": {
            "tags": []
          },
          "execution_count": 39
        }
      ]
    },
    {
      "cell_type": "code",
      "metadata": {
        "colab": {
          "base_uri": "https://localhost:8080/"
        },
        "id": "qwX5XYpkI-Dp",
        "outputId": "820f0609-06d0-461a-b355-a877c8c5ab6e"
      },
      "source": [
        "np.sort(names)"
      ],
      "execution_count": 40,
      "outputs": [
        {
          "output_type": "execute_result",
          "data": {
            "text/plain": [
              "array(['Bob', 'Bob', 'Joe', 'Joe', 'Joe', 'Will', 'Will'], dtype='<U4')"
            ]
          },
          "metadata": {
            "tags": []
          },
          "execution_count": 40
        }
      ]
    },
    {
      "cell_type": "code",
      "metadata": {
        "colab": {
          "base_uri": "https://localhost:8080/"
        },
        "id": "PSx9Hm6XJCsn",
        "outputId": "0bf7b4b4-d8c0-4da0-eaa7-b57193cfd48f"
      },
      "source": [
        "#From array a remove all items present in array b\r\n",
        "a = np.array([1,2,3,4,5]) \r\n",
        "b = np.array([5,6,7,8,9])\r\n",
        "np.delete(a, 4)"
      ],
      "execution_count": 41,
      "outputs": [
        {
          "output_type": "execute_result",
          "data": {
            "text/plain": [
              "array([1, 2, 3, 4])"
            ]
          },
          "metadata": {
            "tags": []
          },
          "execution_count": 41
        }
      ]
    },
    {
      "cell_type": "code",
      "metadata": {
        "colab": {
          "base_uri": "https://localhost:8080/"
        },
        "id": "Jd1-Cy4TJF9c",
        "outputId": "0ea797c6-7f8e-4631-d0e6-cfaa54090b71"
      },
      "source": [
        "#Following is the input NumPy array delete column two and insert following new column in its place\r\n",
        "sampleArray = np.array([[34,43,73], [82,22,12], [53,94,66]])\r\n",
        "newColumn = np.array([[10,10,10]])\r\n",
        "sampleArray[:, 2:] = 10\r\n",
        "sampleArray"
      ],
      "execution_count": 42,
      "outputs": [
        {
          "output_type": "execute_result",
          "data": {
            "text/plain": [
              "array([[34, 43, 10],\n",
              "       [82, 22, 10],\n",
              "       [53, 94, 10]])"
            ]
          },
          "metadata": {
            "tags": []
          },
          "execution_count": 42
        }
      ]
    },
    {
      "cell_type": "code",
      "metadata": {
        "colab": {
          "base_uri": "https://localhost:8080/"
        },
        "id": "zGzC9HbmJJsD",
        "outputId": "7585645f-2c27-49f0-b6d1-cecda8b1c203"
      },
      "source": [
        "#Find the dot product of the above two matrix\r\n",
        "x = np.array([[1., 2., 3.], [4., 5., 6.]])\r\n",
        "y = np.array([[6., 23.], [-1, 7], [8, 9]])\r\n",
        "z = np.dot(x, y)\r\n",
        "z"
      ],
      "execution_count": 43,
      "outputs": [
        {
          "output_type": "execute_result",
          "data": {
            "text/plain": [
              "array([[ 28.,  64.],\n",
              "       [ 67., 181.]])"
            ]
          },
          "metadata": {
            "tags": []
          },
          "execution_count": 43
        }
      ]
    },
    {
      "cell_type": "code",
      "metadata": {
        "colab": {
          "base_uri": "https://localhost:8080/"
        },
        "id": "GGnJtIq4JOzD",
        "outputId": "87563000-d8e4-47e9-d94f-810fe68c2090"
      },
      "source": [
        "#Generate a matrix of 20 random values and find its cumulative sum\r\n",
        "z = np.random.randn(4, 5)\r\n",
        "z"
      ],
      "execution_count": 44,
      "outputs": [
        {
          "output_type": "execute_result",
          "data": {
            "text/plain": [
              "array([[ 0.15278347, -1.89733318, -0.18826526,  0.69989419,  0.86259479],\n",
              "       [-0.59999001,  0.81222718, -1.36964823,  0.42020413,  0.66999466],\n",
              "       [ 0.35827541, -2.42260907,  0.55312635,  0.36411387,  0.54507862],\n",
              "       [-0.80204342,  0.94461242, -1.05261536,  1.12500401,  0.32491091]])"
            ]
          },
          "metadata": {
            "tags": []
          },
          "execution_count": 44
        }
      ]
    },
    {
      "cell_type": "code",
      "metadata": {
        "colab": {
          "base_uri": "https://localhost:8080/"
        },
        "id": "1ZqErFgUJTDg",
        "outputId": "b8928888-9e64-4576-bcf9-e683a9b442c6"
      },
      "source": [
        "z.cumsum()"
      ],
      "execution_count": 45,
      "outputs": [
        {
          "output_type": "execute_result",
          "data": {
            "text/plain": [
              "array([ 0.15278347, -1.74454971, -1.93281497, -1.23292078, -0.37032599,\n",
              "       -0.97031601, -0.15808883, -1.52773705, -1.10753292, -0.43753826,\n",
              "       -0.07926284, -2.50187191, -1.94874556, -1.58463168, -1.03955306,\n",
              "       -1.84159648, -0.89698406, -1.94959942, -0.82459541, -0.49968449])"
            ]
          },
          "metadata": {
            "tags": []
          },
          "execution_count": 45
        }
      ]
    },
    {
      "cell_type": "code",
      "metadata": {
        "id": "xxSo5m_kJV-2"
      },
      "source": [
        ""
      ],
      "execution_count": null,
      "outputs": []
    }
  ]
}